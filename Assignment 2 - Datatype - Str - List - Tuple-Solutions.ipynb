{
 "cells": [
  {
   "cell_type": "markdown",
   "metadata": {},
   "source": [
    "1.Write a program to print duplicate characters from String.<br>\n",
    "  Input : \"Programming\"<br> \n",
    "  Output: \"r\", \"m\", \"g\" \n",
    "\n",
    "\n",
    "\n",
    "\n"
   ]
  },
  {
   "cell_type": "code",
   "execution_count": 31,
   "metadata": {},
   "outputs": [
    {
     "name": "stdout",
     "output_type": "stream",
     "text": [
      "['r', 'g', 'm']\n"
     ]
    }
   ],
   "source": [
    "s = \"Programming\"\n",
    "l = []\n",
    "for value in s:\n",
    "    if s.count(value)> 1 and value not in l:\n",
    "        l.append(value)\n",
    "print(l)"
   ]
  },
  {
   "cell_type": "markdown",
   "metadata": {},
   "source": [
    "2.Write a program to check if two given strings are an anagram of each other or not.<br>\n",
    "Anagram Strings: Two strings are anagrams if they are written using the exact letters, ignoring space, punctuation, and capitalization.<br>\n",
    "\n",
    "For example : Input: \"Army\" and \"Mary\" \n",
    "Output \"Strings are anagrams of each other\" \n",
    "\n",
    "- Remove punctuation from s1 and s2 \n",
    "- isaplha\n",
    "- l1 = [army] and l2 = [mary] \n",
    "- l1.sort() and l2.sort()\n"
   ]
  },
  {
   "cell_type": "code",
   "execution_count": 32,
   "metadata": {},
   "outputs": [
    {
     "name": "stdout",
     "output_type": "stream",
     "text": [
      "Strings are anagram\n"
     ]
    }
   ],
   "source": [
    "s1 = \"A.r; M,y!\"\n",
    "s2 = \"m-a;ry!\"\n",
    "\n",
    "l1 = []\n",
    "l2 = []\n",
    "\n",
    "for value in s1:\n",
    "    if value.isalpha():\n",
    "        l1.append(value.lower())\n",
    "\n",
    "for value in s2:\n",
    "    if value.isalpha():\n",
    "        l2.append(value.lower())\n",
    "\n",
    "if sorted(l1) == sorted(l2):\n",
    "    print(\"Strings are anagram\")\n",
    "else:\n",
    "    print(\"Strings are not anagram\")\n"
   ]
  },
  {
   "cell_type": "code",
   "execution_count": 34,
   "metadata": {},
   "outputs": [
    {
     "name": "stdout",
     "output_type": "stream",
     "text": [
      "The strings given are anagram of each other\n"
     ]
    }
   ],
   "source": [
    "raw_str1 = \"army\"\n",
    "raw_str2 = \"mary\"\n",
    "\n",
    "cook_str1 = []\n",
    "cook_str2 = []\n",
    "\n",
    "for i in raw_str1:\n",
    "    if i.isalpha():\n",
    "        cook_str1.append(i)\n",
    "\n",
    "for j in raw_str2:\n",
    "    if j.isalpha():\n",
    "        cook_str2.append(j)\n",
    "        \n",
    "if(sorted(cook_str1)==sorted(cook_str2)):\n",
    "    print(\"The strings given are anagram of each other\")\n",
    "else:\n",
    "    print(\"Not a anagram\")\n"
   ]
  },
  {
   "cell_type": "markdown",
   "metadata": {},
   "source": [
    "3.Given 3 strings: first, second, and third. Third String is said to be a shuffle of first and second if it can be formed by interleaving the characters of first and second String in a way that maintains the left to right ordering of the characters from each string.<br><br>\n",
    "For example, given first = \"abc\" and second = \"def\", third = \"dabecf\" is a valid shuffle since it preserves the character ordering of the two strings.<br>\n",
    "Given these 3 strings write a program that detects whether the third String is a valid shuffle of first and second String.\n",
    "\n",
    "s3 = \"dabecf\"\n",
    "s3 = \"bdaecf\n",
    "s1 = \"abc\"\n",
    "       ^ \n",
    "s2 = \"def\"\n",
    "       ^ \n",
    "\n",
    "\n"
   ]
  },
  {
   "cell_type": "code",
   "execution_count": 26,
   "metadata": {},
   "outputs": [
    {
     "name": "stdout",
     "output_type": "stream",
     "text": [
      "Valid shuffle\n"
     ]
    }
   ],
   "source": [
    "s1 = \"abc\"\n",
    "s2 = \"def\"\n",
    "s3 = \"dabecf\"\n",
    "\n",
    "s1_index =0\n",
    "s2_index =0\n",
    "for char in s3:\n",
    "\n",
    "    if s1_index < len(s1) and char == s1[s1_index]:\n",
    "        s1_index+=1\n",
    "    elif s2_index < len(s2) and char == s2[s2_index]:\n",
    "        s2_index+=1\n",
    "    else:\n",
    "        print(\"Invalid shuffle\")\n",
    "        break\n",
    "else:\n",
    "    print(\"Valid shuffle\")\n",
    "    "
   ]
  },
  {
   "cell_type": "markdown",
   "metadata": {},
   "source": [
    "4.Write a program to implement an algorithm which will accept a string of characters and should find the highest occurrence of the character and display it.<br>For example, if the input is \"aaaaaaaabbbcddddeeee\" it should return \"a\". \n",
    " "
   ]
  },
  {
   "cell_type": "code",
   "execution_count": 36,
   "metadata": {},
   "outputs": [
    {
     "name": "stdout",
     "output_type": "stream",
     "text": [
      "a\n"
     ]
    }
   ],
   "source": [
    "s = \"aaaaaaaaaaaaaaaaabbbbbcdddddddddeeee\"\n",
    "l = []\n",
    "max_count = 0\n",
    "max_char = \"\"\n",
    "for value in s:\n",
    "    if value not in l and s.count(value) > max_count:\n",
    "        max_count = s.count(value)\n",
    "        max_char = value\n",
    "        l.append(value)\n",
    "print(max_char)"
   ]
  },
  {
   "cell_type": "markdown",
   "metadata": {},
   "source": [
    "5.In a given string, if adjacent characters are same remove those characters from the string and generate the reduced string<br>\n",
    "\n",
    "For example : aaabccddd => abccddd => abddd => abd \n",
    "\n"
   ]
  },
  {
   "cell_type": "code",
   "execution_count": 2,
   "metadata": {},
   "outputs": [
    {
     "name": "stdout",
     "output_type": "stream",
     "text": [
      "['a', 'b', 'd']\n"
     ]
    }
   ],
   "source": [
    "s = \"aaabccddd\"\n",
    "output =[]\n",
    "index = 0\n",
    "\n",
    "while index <= len(s)-1:\n",
    "    \n",
    "    if len(s)%2 != 0 and index == len(s)-1:\n",
    "        output.append(s[len(s)-1])\n",
    "        index = index +1\n",
    "    elif s[index] == s[index +1]:\n",
    "        index = index+2\n",
    "    else:\n",
    "        output.append(s[index])\n",
    "        output.append(s[index+1])\n",
    "        index = index +2\n",
    "print(output)\n",
    "        \n",
    "\n"
   ]
  },
  {
   "cell_type": "markdown",
   "metadata": {},
   "source": [
    "6.Caesar's cipher shifts each letter by a number of letters. If the shift takes you past the end of the alphabet, just rotate back to the front of the alphabet. In the case of rotation by 4, w, x, y, and z would map to z, a, b and c.<br>\n",
    "For example, if the string is: \"welcome\" and the shift is 4 the output will be \"aipgtqi\"\n",
    "a => 97\n",
    "z ==> 122\n",
    "\n",
    "123 - 26\n",
    "\n",
    "\n"
   ]
  },
  {
   "cell_type": "code",
   "execution_count": 15,
   "metadata": {},
   "outputs": [
    {
     "name": "stdout",
     "output_type": "stream",
     "text": [
      "['a', 'i', 'p', 'g', 's', 'q', 'i']\n",
      "aipgsqi\n"
     ]
    }
   ],
   "source": [
    "input = \"welcome\"\n",
    "rotataion = 4\n",
    "output = []\n",
    "for value in input:\n",
    "    shifted_value = ord(value) + rotataion\n",
    "    if shifted_value > 122:\n",
    "        output.append(chr(shifted_value-26))\n",
    "    else:\n",
    "        output.append(chr(shifted_value))\n",
    "\n",
    "converted_str = (\"\").join(output)\n",
    "print(converted_str)"
   ]
  },
  {
   "cell_type": "markdown",
   "metadata": {},
   "source": [
    "7.Write a program to find all pairs in a list of Integers Whose sum is equal to a given Number.<br>\n",
    "\n",
    "For example nums = [1,2,3,4,5] sum = 7 <br>\n",
    "expected output is ans = [(3,4),(2,5),(4,3),(5,2)]\n"
   ]
  },
  {
   "cell_type": "code",
   "execution_count": 8,
   "metadata": {},
   "outputs": [
    {
     "name": "stdout",
     "output_type": "stream",
     "text": [
      "[(2, 5), (3, 4), (4, 3), (5, 2)]\n"
     ]
    }
   ],
   "source": [
    "nums = [1,2,3,4,5]\n",
    "expected_sum = 7 \n",
    "output = []\n",
    "for value in nums:\n",
    "    if (expected_sum - value) in nums:\n",
    "        output.append((value,(expected_sum - value)))\n",
    "print(output)"
   ]
  },
  {
   "cell_type": "markdown",
   "metadata": {},
   "source": [
    "8.Find all sublists with a sum equal to zero from a given list.<br>\n",
    "\n",
    "For example: input [4,-3,-2,-1,1]<br>\n",
    "expected output [(4,-3,-1),(3,-2,-1),(-1,1),(4,-3,-2,1)]<br> \n",
    "\n",
    "[4,-3,-2,-1,1]\n",
    "\n",
    "n = 4  \n",
    "    l=1 = [4]\n",
    "    l=2 = [4,-3],[4,-2],[4,-1][4,1]\n",
    "    l=3 \n",
    "   \n",
    "n = -3\n",
    "\n",
    "\n",
    "\n"
   ]
  },
  {
   "cell_type": "code",
   "execution_count": 30,
   "metadata": {},
   "outputs": [
    {
     "name": "stdout",
     "output_type": "stream",
     "text": [
      "[[1, -1], [2, -2], [2, 3, -5], [5, -5]]\n"
     ]
    }
   ],
   "source": [
    "l=[4,-3,-2,-1,1]\n",
    "\n",
    "output = []\n",
    "for index,value in enumerate(l):\n",
    "    count = 1\n",
    "    while count <= len(l):                \n",
    "        for index2,value2 in enumerate(l[index+count-1:]):\n",
    "            temp = l[index:index+count-1]\n",
    "            temp.append(value2)\n",
    "            if len(temp) == count and sum(temp) ==0:                \n",
    "                output.append(temp)                \n",
    "        count+=1\n",
    "print(output)\n"
   ]
  },
  {
   "cell_type": "markdown",
   "metadata": {},
   "source": [
    "9.Given a list of N integers. The task is to eliminate the minimum number of elements such that in the resulting list the sum of any two adjacent values is even.<br>\n",
    "\n",
    "numbers = [1, 3, 5, 4, 2]<br>\n",
    "output = [1, 3, 5] Total elements removed 2 \n",
    "\n",
    "even =[3,4]\n",
    "odd = [0,1,2]\n",
    "\n",
    "sum = 2 2=4\n",
    "      3 3 =6\n",
    "      1 2=3\n"
   ]
  },
  {
   "cell_type": "code",
   "execution_count": 37,
   "metadata": {},
   "outputs": [
    {
     "name": "stdout",
     "output_type": "stream",
     "text": [
      "[3, 4] 2\n"
     ]
    }
   ],
   "source": [
    "nums = [1, 3, 5, 4, 2]\n",
    "even_nums = []\n",
    "odd_nums = []\n",
    "for index,value in enumerate(nums):\n",
    "    if value % 2 ==0:\n",
    "        even_nums.append(index)\n",
    "    else:\n",
    "        odd_nums.append(index)\n",
    "if len(even_nums) < len(odd_nums):\n",
    "    element_remove = even_nums\n",
    "else:\n",
    "    element_remove = odd_nums\n",
    "print(element_remove,len(element_remove))\n",
    "\n",
    "\n"
   ]
  },
  {
   "cell_type": "markdown",
   "metadata": {},
   "source": [
    "10.Write a program, which will find all such numbers between 1000 and 3000 (both included) such that each digit of the number is an even number. Add all such elements into the list and print the list."
   ]
  }
 ],
 "metadata": {
  "kernelspec": {
   "display_name": "Python 3",
   "language": "python",
   "name": "python3"
  },
  "language_info": {
   "codemirror_mode": {
    "name": "ipython",
    "version": 3
   },
   "file_extension": ".py",
   "mimetype": "text/x-python",
   "name": "python",
   "nbconvert_exporter": "python",
   "pygments_lexer": "ipython3",
   "version": "3.6.5"
  }
 },
 "nbformat": 4,
 "nbformat_minor": 2
}
